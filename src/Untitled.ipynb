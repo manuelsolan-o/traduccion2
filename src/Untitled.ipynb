{
 "cells": [
  {
   "cell_type": "code",
   "execution_count": null,
   "id": "48c19088",
   "metadata": {},
   "outputs": [],
   "source": [
    "MAP_HIST_BUILTUP_INTRO_TEXT\n",
    "\n",
    "MAP_HIST_URBAN_EXPANDED_TEXT\n",
    "\n",
    "MAP_HIST_URBAN_INTRO_TEXT\n",
    "\n",
    "MAP_BUILT_F_EXPANDED_TEXT\n",
    "\n",
    "MAP_BUILT_F_INTRO_TEXT\n",
    "\n",
    "MAP_POP_EXPANDED_TEXT\n",
    "\n",
    "LINE_GRAPH_TEXT_1\n",
    "\n",
    "LINE_GRAPH_TEXT_4\n",
    "\n",
    "LINE_GRAPH_TEXT_5\n",
    "\n",
    "LINE_GRAPH_TEXT_6"
   ]
  }
 ],
 "metadata": {
  "kernelspec": {
   "display_name": "Python 3 (ipykernel)",
   "language": "python",
   "name": "python3"
  },
  "language_info": {
   "codemirror_mode": {
    "name": "ipython",
    "version": 3
   },
   "file_extension": ".py",
   "mimetype": "text/x-python",
   "name": "python",
   "nbconvert_exporter": "python",
   "pygments_lexer": "ipython3",
   "version": "3.10.12"
  }
 },
 "nbformat": 4,
 "nbformat_minor": 5
}
