{
 "cells": [
  {
   "cell_type": "code",
   "execution_count": 3,
   "id": "2a654d08",
   "metadata": {},
   "outputs": [],
   "source": [
    "import json\n",
    "\n",
    "# Nuevo diccionario combinado llamado 'translations'\n",
    "translations = {\n",
    "    \"title1\": {\n",
    "        \"es\": \"Bienvenido\",\n",
    "        \"en\": \"Welcome\",\n",
    "        \"pt\": \"Bem-vindo\"\n",
    "    },\n",
    "    \"title2\": {\n",
    "        \"es\": \"Selemi es gei\",\n",
    "        \"en\": \"Selemi is gay\",\n",
    "        \"pt\": \"Selemi é gay\"\n",
    "    }\n",
    "    # Continúa agregando más componentes y traducciones aquí\n",
    "}\n",
    "\n",
    "# Escribir el diccionario en un archivo JSON\n",
    "with open('translations.json', 'w', encoding='utf-8') as file:\n",
    "    json.dump(translations, file, ensure_ascii=False, indent=4)\n"
   ]
  },
  {
   "cell_type": "code",
   "execution_count": 2,
   "id": "fd04b011",
   "metadata": {},
   "outputs": [
    {
     "data": {
      "text/html": [
       "\n",
       "        <iframe\n",
       "            width=\"100%\"\n",
       "            height=\"650\"\n",
       "            src=\"http://127.0.0.1:8050/\"\n",
       "            frameborder=\"0\"\n",
       "            allowfullscreen\n",
       "            \n",
       "        ></iframe>\n",
       "        "
      ],
      "text/plain": [
       "<IPython.lib.display.IFrame at 0x7fcf5036d630>"
      ]
     },
     "metadata": {},
     "output_type": "display_data"
    }
   ],
   "source": [
    "import dash\n",
    "import dash_html_components as html\n",
    "from dash.dependencies import Input, Output\n",
    "import json\n",
    "\n",
    "with open('translations.json', 'r', encoding='utf-8') as file:\n",
    "    translations = json.load(file)\n",
    "    \n",
    "# Inicializar la aplicación Dash\n",
    "app = dash.Dash(__name__)\n",
    "\n",
    "# Botones para cambiar de idioma\n",
    "language_buttons = html.Div([\n",
    "    html.Button('Español', id='btn-spanish', n_clicks=0),\n",
    "    html.Button('English', id='btn-english', n_clicks=0),\n",
    "    html.Button('Portuguese', id='btn-portuguese', n_clicks=0)\n",
    "])\n",
    "\n",
    "# Layout de la aplicación\n",
    "app.layout = html.Div([\n",
    "    language_buttons,\n",
    "    html.H1(id=\"title1\"),  # El texto se establecerá dinámicamente\n",
    "    html.H1(id=\"title2\"),  # El texto se establecerá dinámicamente\n",
    "])\n",
    "\n",
    "@app.callback(\n",
    "    [Output(key, 'children') for key in translations.keys()],\n",
    "    [Input('btn-spanish', 'n_clicks'),\n",
    "     Input('btn-english', 'n_clicks'),\n",
    "     Input('btn-portuguese', 'n_clicks')]\n",
    ")\n",
    "def update_translated_content(btn_spanish, btn_english, btn_portuguese):\n",
    "    ctx = dash.callback_context\n",
    "\n",
    "    if not ctx.triggered:\n",
    "        language = 'es'\n",
    "    else:\n",
    "        button_id = ctx.triggered[0]['prop_id'].split('.')[0]\n",
    "        language = 'es' if button_id == 'btn-spanish' else 'en' if button_id == 'btn-english' else 'pt'\n",
    "\n",
    "    return [translations[key][language] for key in translations.keys()]\n",
    "\n",
    "# Ejecutar la aplicación\n",
    "if __name__ == '__main__':\n",
    "    app.run_server(debug=True)"
   ]
  },
  {
   "cell_type": "code",
   "execution_count": null,
   "id": "f1c6d75f",
   "metadata": {},
   "outputs": [],
   "source": []
  }
 ],
 "metadata": {
  "kernelspec": {
   "display_name": "Python 3 (ipykernel)",
   "language": "python",
   "name": "python3"
  },
  "language_info": {
   "codemirror_mode": {
    "name": "ipython",
    "version": 3
   },
   "file_extension": ".py",
   "mimetype": "text/x-python",
   "name": "python",
   "nbconvert_exporter": "python",
   "pygments_lexer": "ipython3",
   "version": "3.10.12"
  }
 },
 "nbformat": 4,
 "nbformat_minor": 5
}
