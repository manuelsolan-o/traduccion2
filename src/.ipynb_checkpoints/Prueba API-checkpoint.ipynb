{
 "cells": [
  {
   "cell_type": "code",
   "execution_count": 1,
   "id": "1c59b73e",
   "metadata": {},
   "outputs": [
    {
     "name": "stderr",
     "output_type": "stream",
     "text": [
      "/tmp/ipykernel_12257/2412643559.py:2: UserWarning: \n",
      "The dash_html_components package is deprecated. Please replace\n",
      "`import dash_html_components as html` with `from dash import html`\n",
      "  import dash_html_components as html\n"
     ]
    },
    {
     "name": "stdout",
     "output_type": "stream",
     "text": [
      "\u001b[1;31m---------------------------------------------------------------------------\u001b[0m\n",
      "\u001b[1;31mDuplicateIdError\u001b[0m                          Traceback (most recent call last)\n",
      "File \u001b[1;32m~/conda/envs/ursa/lib/python3.10/site-packages/flask/app.py:1821\u001b[0m, in \u001b[0;36mFlask.full_dispatch_request\u001b[1;34m(self=<Flask '__main__'>)\u001b[0m\n",
      "\u001b[0;32m   1819\u001b[0m \u001b[38;5;28;01mtry\u001b[39;00m:\n",
      "\u001b[0;32m   1820\u001b[0m     request_started\u001b[38;5;241m.\u001b[39msend(\u001b[38;5;28mself\u001b[39m)\n",
      "\u001b[1;32m-> 1821\u001b[0m     rv \u001b[38;5;241m=\u001b[39m \u001b[38;5;28;43mself\u001b[39;49m\u001b[38;5;241;43m.\u001b[39;49m\u001b[43mpreprocess_request\u001b[49m\u001b[43m(\u001b[49m\u001b[43m)\u001b[49m\n",
      "        self \u001b[1;34m= <Flask '__main__'>\u001b[0m\n",
      "\u001b[0;32m   1822\u001b[0m     \u001b[38;5;28;01mif\u001b[39;00m rv \u001b[38;5;129;01mis\u001b[39;00m \u001b[38;5;28;01mNone\u001b[39;00m:\n",
      "\u001b[0;32m   1823\u001b[0m         rv \u001b[38;5;241m=\u001b[39m \u001b[38;5;28mself\u001b[39m\u001b[38;5;241m.\u001b[39mdispatch_request()\n",
      "\n",
      "File \u001b[1;32m~/conda/envs/ursa/lib/python3.10/site-packages/flask/app.py:2313\u001b[0m, in \u001b[0;36mFlask.preprocess_request\u001b[1;34m(self=<Flask '__main__'>)\u001b[0m\n",
      "\u001b[0;32m   2311\u001b[0m \u001b[38;5;28;01mif\u001b[39;00m name \u001b[38;5;129;01min\u001b[39;00m \u001b[38;5;28mself\u001b[39m\u001b[38;5;241m.\u001b[39mbefore_request_funcs:\n",
      "\u001b[0;32m   2312\u001b[0m     \u001b[38;5;28;01mfor\u001b[39;00m before_func \u001b[38;5;129;01min\u001b[39;00m \u001b[38;5;28mself\u001b[39m\u001b[38;5;241m.\u001b[39mbefore_request_funcs[name]:\n",
      "\u001b[1;32m-> 2313\u001b[0m         rv \u001b[38;5;241m=\u001b[39m \u001b[38;5;28;43mself\u001b[39;49m\u001b[38;5;241;43m.\u001b[39;49m\u001b[43mensure_sync\u001b[49m\u001b[43m(\u001b[49m\u001b[43mbefore_func\u001b[49m\u001b[43m)\u001b[49m\u001b[43m(\u001b[49m\u001b[43m)\u001b[49m\n",
      "        before_func \u001b[1;34m= <bound method Dash._setup_server of <dash.dash.Dash object at 0x7ff394a56a10>>\u001b[0m\u001b[1;34m\n",
      "        \u001b[0mself \u001b[1;34m= <Flask '__main__'>\u001b[0m\n",
      "\u001b[0;32m   2315\u001b[0m         \u001b[38;5;28;01mif\u001b[39;00m rv \u001b[38;5;129;01mis\u001b[39;00m \u001b[38;5;129;01mnot\u001b[39;00m \u001b[38;5;28;01mNone\u001b[39;00m:\n",
      "\u001b[0;32m   2316\u001b[0m             \u001b[38;5;28;01mreturn\u001b[39;00m rv\n",
      "\n",
      "File \u001b[1;32m~/conda/envs/ursa/lib/python3.10/site-packages/dash/dash.py:1330\u001b[0m, in \u001b[0;36mDash._setup_server\u001b[1;34m(self=<dash.dash.Dash object>)\u001b[0m\n",
      "\u001b[0;32m   1327\u001b[0m \u001b[38;5;28;01mif\u001b[39;00m \u001b[38;5;129;01mnot\u001b[39;00m \u001b[38;5;28mself\u001b[39m\u001b[38;5;241m.\u001b[39mlayout \u001b[38;5;129;01mand\u001b[39;00m \u001b[38;5;28mself\u001b[39m\u001b[38;5;241m.\u001b[39muse_pages:\n",
      "\u001b[0;32m   1328\u001b[0m     \u001b[38;5;28mself\u001b[39m\u001b[38;5;241m.\u001b[39mlayout \u001b[38;5;241m=\u001b[39m page_container\n",
      "\u001b[1;32m-> 1330\u001b[0m \u001b[43m_validate\u001b[49m\u001b[38;5;241;43m.\u001b[39;49m\u001b[43mvalidate_layout\u001b[49m\u001b[43m(\u001b[49m\u001b[38;5;28;43mself\u001b[39;49m\u001b[38;5;241;43m.\u001b[39;49m\u001b[43mlayout\u001b[49m\u001b[43m,\u001b[49m\u001b[43m \u001b[49m\u001b[38;5;28;43mself\u001b[39;49m\u001b[38;5;241;43m.\u001b[39;49m\u001b[43m_layout_value\u001b[49m\u001b[43m(\u001b[49m\u001b[43m)\u001b[49m\u001b[43m)\u001b[49m\n",
      "        self \u001b[1;34m= <dash.dash.Dash object at 0x7ff394a56a10>\u001b[0m\u001b[1;34m\n",
      "        \u001b[0m_validate \u001b[1;34m= <module 'dash._validate' from '/home/maanuel_real/conda/envs/ursa/lib/python3.10/site-packages/dash/_validate.py'>\u001b[0m\n",
      "\u001b[0;32m   1332\u001b[0m \u001b[38;5;28mself\u001b[39m\u001b[38;5;241m.\u001b[39m_generate_scripts_html()\n",
      "\u001b[0;32m   1333\u001b[0m \u001b[38;5;28mself\u001b[39m\u001b[38;5;241m.\u001b[39m_generate_css_dist_html()\n",
      "\n",
      "File \u001b[1;32m~/conda/envs/ursa/lib/python3.10/site-packages/dash/_validate.py:416\u001b[0m, in \u001b[0;36mvalidate_layout\u001b[1;34m(\n",
      "    layout=Div([Div([Button(children='Español', id='btn-spa... id='original-text', style={'display': 'none'})]),\n",
      "    layout_value=Div([Div([Button(children='Español', id='btn-spa... id='original-text', style={'display': 'none'})])\n",
      ")\u001b[0m\n",
      "\u001b[0;32m    414\u001b[0m component_id \u001b[38;5;241m=\u001b[39m stringify_id(\u001b[38;5;28mgetattr\u001b[39m(component, \u001b[38;5;124m\"\u001b[39m\u001b[38;5;124mid\u001b[39m\u001b[38;5;124m\"\u001b[39m, \u001b[38;5;28;01mNone\u001b[39;00m))\n",
      "\u001b[0;32m    415\u001b[0m \u001b[38;5;28;01mif\u001b[39;00m component_id \u001b[38;5;129;01mand\u001b[39;00m component_id \u001b[38;5;129;01min\u001b[39;00m component_ids:\n",
      "\u001b[1;32m--> 416\u001b[0m     \u001b[38;5;28;01mraise\u001b[39;00m exceptions\u001b[38;5;241m.\u001b[39mDuplicateIdError(\n",
      "        exceptions \u001b[1;34m= <module 'dash.exceptions' from '/home/maanuel_real/conda/envs/ursa/lib/python3.10/site-packages/dash/exceptions.py'>\u001b[0m\u001b[1;34m\n",
      "        \u001b[0mcomponent_id \u001b[1;34m= 'title'\u001b[0m\n",
      "\u001b[0;32m    417\u001b[0m         \u001b[38;5;124mf\u001b[39m\u001b[38;5;124m\"\"\"\u001b[39m\n",
      "\u001b[0;32m    418\u001b[0m \u001b[38;5;124m        Duplicate component id found in the initial layout: `\u001b[39m\u001b[38;5;132;01m{\u001b[39;00mcomponent_id\u001b[38;5;132;01m}\u001b[39;00m\u001b[38;5;124m`\u001b[39m\n",
      "\u001b[0;32m    419\u001b[0m \u001b[38;5;124m        \u001b[39m\u001b[38;5;124m\"\"\"\u001b[39m\n",
      "\u001b[0;32m    420\u001b[0m     )\n",
      "\u001b[0;32m    421\u001b[0m component_ids\u001b[38;5;241m.\u001b[39madd(component_id)\n",
      "\n",
      "\u001b[1;31mDuplicateIdError\u001b[0m: Duplicate component id found in the initial layout: `title`\n",
      "\n"
     ]
    },
    {
     "data": {
      "text/html": [
       "\n",
       "        <iframe\n",
       "            width=\"100%\"\n",
       "            height=\"650\"\n",
       "            src=\"http://127.0.0.1:8050/\"\n",
       "            frameborder=\"0\"\n",
       "            allowfullscreen\n",
       "            \n",
       "        ></iframe>\n",
       "        "
      ],
      "text/plain": [
       "<IPython.lib.display.IFrame at 0x7ff372390850>"
      ]
     },
     "metadata": {},
     "output_type": "display_data"
    }
   ],
   "source": [
    "import dash\n",
    "import dash_html_components as html\n",
    "from dash.dependencies import Input, Output, State\n",
    "from googletrans import Translator\n",
    "\n",
    "# Inicializar la aplicación Dash\n",
    "app = dash.Dash(__name__)\n",
    "\n",
    "# Traductor de Google Translate\n",
    "translator = Translator()\n",
    "\n",
    "# Función para traducir texto\n",
    "def translate_text(text, dest_language):\n",
    "    return translator.translate(text, dest=dest_language).text\n",
    "\n",
    "# Botones para cambiar de idioma\n",
    "language_buttons = html.Div([\n",
    "    html.Button('Español', id='btn-spanish', n_clicks=0),\n",
    "    html.Button('English', id='btn-english', n_clicks=0),\n",
    "    html.Button('Portuguese', id='btn-portuguese', n_clicks=0)\n",
    "])\n",
    "\n",
    "# Layout de la aplicación\n",
    "app.layout = html.Div([\n",
    "    language_buttons,\n",
    "    html.H1(id=\"title\", children=\"Bienvenido\"), # Texto visible\n",
    "    html.H1(id=\"title2\", children=\"Selemi es gei\"),\n",
    "    html.Div(id='original-text', children=\"Bienvenido\", style={'display': 'none'}) # Texto original oculto\n",
    "])\n",
    "\n",
    "# Callback para actualizar el contenido basado en el idioma seleccionado\n",
    "@app.callback(\n",
    "    Output('title', 'children'),\n",
    "    Output('title2', 'children'),\n",
    "    [Input('btn-spanish', 'n_clicks'),\n",
    "     Input('btn-english', 'n_clicks'),\n",
    "     Input('btn-portuguese', 'n_clicks')],\n",
    "    [State('original-text', 'children')]\n",
    ")\n",
    "def update_translated_content(btn_spanish, btn_english, btn_portuguese, original_text):\n",
    "    ctx = dash.callback_context\n",
    "\n",
    "    if not ctx.triggered:\n",
    "        language = 'es'  # Idioma predeterminado\n",
    "    else:\n",
    "        button_id = ctx.triggered[0]['prop_id'].split('.')[0]\n",
    "        if button_id == 'btn-spanish':\n",
    "            language = 'es'\n",
    "        elif button_id == 'btn-english':\n",
    "            language = 'en'\n",
    "        elif button_id == 'btn-portuguese':\n",
    "            language = 'pt'\n",
    "\n",
    "    translated_text = translate_text(original_text, language)\n",
    "    return translated_text\n",
    "\n",
    "# Ejecutar la aplicación\n",
    "if __name__ == '__main__':\n",
    "    app.run_server(debug=True)\n"
   ]
  },
  {
   "cell_type": "code",
   "execution_count": null,
   "id": "c042a60e",
   "metadata": {},
   "outputs": [],
   "source": []
  }
 ],
 "metadata": {
  "kernelspec": {
   "display_name": "Python 3 (ipykernel)",
   "language": "python",
   "name": "python3"
  },
  "language_info": {
   "codemirror_mode": {
    "name": "ipython",
    "version": 3
   },
   "file_extension": ".py",
   "mimetype": "text/x-python",
   "name": "python",
   "nbconvert_exporter": "python",
   "pygments_lexer": "ipython3",
   "version": "3.10.12"
  }
 },
 "nbformat": 4,
 "nbformat_minor": 5
}
